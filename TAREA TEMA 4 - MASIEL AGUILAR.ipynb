{
 "cells": [
  {
   "cell_type": "code",
   "execution_count": null,
   "id": "faca526e",
   "metadata": {},
   "outputs": [
    {
     "name": "stdout",
     "output_type": "stream",
     "text": [
      "Archivo creado exitosamente.\n"
     ]
    }
   ],
   "source": [
    "#TAREA TEMA 4 EJERCICIO1\n",
    "#Estudiante: Masiel Aguilar Ameller\n",
    "\n",
    "# Crear un archivo CSV de ejemplo\n",
    "contenido = \"\"\"Nombre,Edad,Pais\n",
    "Ana,23,Argentina\n",
    "Luis,30,México\n",
    "Sofía,25,Colombia\n",
    "Pedro,28,Chile\n",
    "Lucía,22,Perú\n",
    "Mario,35,Brasil\n",
    "\"\"\"\n",
    "\n",
    "with open(\"datos.csv\", \"w\", encoding=\"utf-8\") as f:\n",
    "    f.write(contenido)\n",
    "\n",
    "print(\"Archivo creado exitosamente.\")"
   ]
  },
  {
   "cell_type": "code",
   "execution_count": 3,
   "id": "e3351dc3",
   "metadata": {},
   "outputs": [
    {
     "name": "stdout",
     "output_type": "stream",
     "text": [
      "\n",
      "Columnas: 3\n",
      "Filas (sin encabezado): 6\n",
      "\n",
      "Primeros 5 registros:\n",
      "['Ana', '23', 'Argentina']\n",
      "['Luis', '30', 'México']\n",
      "['Sofía', '25', 'Colombia']\n",
      "['Pedro', '28', 'Chile']\n",
      "['Lucía', '22', 'Perú']\n",
      "\n",
      "Paises únicos: ['Argentina', 'México', 'Colombia', 'Chile', 'Perú', 'Brasil']\n",
      "Cantidad de países únicos: 6\n",
      "\n",
      "Media de edad: 27.166666666666668\n",
      "Edad máxima: 35\n",
      "Edad mínima: 22\n",
      "\n",
      "Histograma de edades:\n",
      "Ana       : ███████████████████████\n",
      "Luis      : ██████████████████████████████\n",
      "Sofía     : █████████████████████████\n",
      "Pedro     : ████████████████████████████\n",
      "Lucía     : ██████████████████████\n",
      "Mario     : ███████████████████████████████████\n"
     ]
    }
   ],
   "source": [
    "# Leer el archivo\n",
    "with open('datos.csv', 'r', encoding='utf-8') as f:\n",
    "    lineas = f.readlines()\n",
    "\n",
    "datos = []\n",
    "for linea in lineas:\n",
    "    fila = linea.strip().split(',')\n",
    "    datos.append(fila)\n",
    "\n",
    "# Encabezado y dimensiones\n",
    "encabezado = datos[0]\n",
    "n_columnas = len(encabezado)\n",
    "n_filas = len(datos) - 1  # sin encabezado\n",
    "\n",
    "print(f\"\\nColumnas: {n_columnas}\")\n",
    "print(f\"Filas (sin encabezado): {n_filas}\")\n",
    "\n",
    "# Mostrar primeros 5 registros (sin slicing)\n",
    "print(\"\\nPrimeros 5 registros:\")\n",
    "contador = 0\n",
    "i = 1\n",
    "while contador < 5 and i < len(datos):\n",
    "    print(datos[i])\n",
    "    contador += 1\n",
    "    i += 1\n",
    "\n",
    "# Valores únicos en columna \"Pais\"\n",
    "indice_pais = encabezado.index(\"Pais\")\n",
    "paises = []\n",
    "\n",
    "for i in range(1, len(datos)):\n",
    "    pais = datos[i][indice_pais]\n",
    "    if pais not in paises:\n",
    "        paises.append(pais)\n",
    "\n",
    "print(f\"\\nPaises únicos: {paises}\")\n",
    "print(f\"Cantidad de países únicos: {len(paises)}\")\n",
    "\n",
    "# Media de la columna \"Edad\"\n",
    "indice_edad = encabezado.index(\"Edad\")\n",
    "suma = 0\n",
    "cantidad = 0\n",
    "\n",
    "for i in range(1, len(datos)):\n",
    "    edad = int(datos[i][indice_edad])\n",
    "    suma += edad\n",
    "    cantidad += 1\n",
    "\n",
    "media = suma / cantidad\n",
    "print(f\"\\nMedia de edad: {media}\")\n",
    "\n",
    "# Valor máximo y mínimo de \"Edad\"\n",
    "maximo = float('-inf')\n",
    "minimo = float('inf')\n",
    "\n",
    "for i in range(1, len(datos)):\n",
    "    edad = int(datos[i][indice_edad])\n",
    "    if edad > maximo:\n",
    "        maximo = edad\n",
    "    if edad < minimo:\n",
    "        minimo = edad\n",
    "\n",
    "print(f\"Edad máxima: {maximo}\")\n",
    "print(f\"Edad mínima: {minimo}\")\n",
    "\n",
    "# 🎁 Extra: Histograma textual de edades\n",
    "print(\"\\nHistograma de edades:\")\n",
    "for i in range(1, len(datos)):\n",
    "    nombre = datos[i][0]\n",
    "    edad = int(datos[i][indice_edad])\n",
    "    print(f\"{nombre:10}: {'█' * edad}\")\n"
   ]
  },
  {
   "cell_type": "code",
   "execution_count": null,
   "id": "223a4c1b",
   "metadata": {},
   "outputs": [],
   "source": []
  }
 ],
 "metadata": {
  "kernelspec": {
   "display_name": "MASIEL_AGUILAR_CARPETAVIRTUAL",
   "language": "python",
   "name": "python3"
  },
  "language_info": {
   "codemirror_mode": {
    "name": "ipython",
    "version": 3
   },
   "file_extension": ".py",
   "mimetype": "text/x-python",
   "name": "python",
   "nbconvert_exporter": "python",
   "pygments_lexer": "ipython3",
   "version": "3.12.9"
  }
 },
 "nbformat": 4,
 "nbformat_minor": 5
}
